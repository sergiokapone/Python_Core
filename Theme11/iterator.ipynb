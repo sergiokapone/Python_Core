{
 "cells": [
  {
   "cell_type": "markdown",
   "metadata": {},
   "source": [
    "# Итерируемое, итератор и генератор\n"
   ]
  },
  {
   "cell_type": "markdown",
   "metadata": {},
   "source": [
    "## Клас итератора\n",
    "\n",
    "Итератор в Python — это объект, который реализует метод `__next__()`, возвращающий следующий элемент итерируемого объекта при каждом вызове, и бросающий исключение `StopIteration`, когда элементы закончились.\n",
    "\n",
    "Итератор получают с помощью функции `iter()`."
   ]
  },
  {
   "cell_type": "code",
   "execution_count": 1,
   "metadata": {},
   "outputs": [],
   "source": [
    "class MyIterator:\n",
    "    \"\"\"Итератор в Python — это объект, который реализует метод __next__(), возвращающий следующий элемент итерируемого объекта при каждом вызове, и бросающий исключение StopIteration, когда элементы закончились.\n",
    "\n",
    "    Итератор получают с помощью функции iter().\n",
    "\n",
    "    \"\"\"\n",
    "\n",
    "    def __init__(self, data):\n",
    "        self.data = data\n",
    "        self.index = 0\n",
    "\n",
    "    def __next__(self):\n",
    "        if self.index == len(self.data):\n",
    "            raise StopIteration\n",
    "        result = self.data[self.index]\n",
    "        self.index += 1\n",
    "        return result"
   ]
  },
  {
   "cell_type": "markdown",
   "metadata": {},
   "source": [
    "В приведенном ниже коде `iterator` - есть объект класса `MyIterator` который будет итерироваться по классу `list`."
   ]
  },
  {
   "cell_type": "code",
   "execution_count": 2,
   "metadata": {},
   "outputs": [
    {
     "name": "stdout",
     "output_type": "stream",
     "text": [
      "1\n",
      "2\n",
      "3\n"
     ]
    }
   ],
   "source": [
    "iterator = MyIterator([1, 2, 3])\n",
    "try:\n",
    "    while True:\n",
    "        value = next(iterator)\n",
    "        print(value)\n",
    "except StopIteration:\n",
    "    pass"
   ]
  },
  {
   "cell_type": "markdown",
   "metadata": {},
   "source": [
    "## Клас итерируемого\n",
    "\n",
    "Итерируемый объект в Python — это любой объект, от которого можно получить итератор.\n",
    "\n",
    "Такими объектами являются, например, списки, кортежи, строки и словари.\n",
    "\n",
    "Итерируемыми объектами могут быть и пользовательские объекты, если в их\n",
    "классе реализован специальный метод `__iter__()`.\n",
    "\n",
    "Или другое определение: итерируемый объект (iterable) - это объект, который реализует метод `__iter__()` и возвращает итератор."
   ]
  },
  {
   "cell_type": "code",
   "execution_count": 3,
   "metadata": {},
   "outputs": [],
   "source": [
    "class MyIterable:\n",
    "    \"\"\"Итерируемый объект в Python — это любой объект, от которого можно получить итератор.\n",
    "\n",
    "    Такими объектами являются, например, списки, кортежи, строки и словари.\n",
    "\n",
    "    Итерируемыми объектами могут быть и пользовательские объекты, если в их\n",
    "    классе реализован специальный метод __iter__().\n",
    "\n",
    "    Или другое определение:\n",
    "\n",
    "    Итерируемый объект (iterable) - это объект, который реализует метод __iter__() и возвращает итератор.\n",
    "\n",
    "    \"\"\"\n",
    "\n",
    "    def __init__(self, data):\n",
    "        self.data = data\n",
    "\n",
    "    def __iter__(self):\n",
    "        return MyIterator(self.data)"
   ]
  },
  {
   "cell_type": "markdown",
   "metadata": {},
   "source": [
    "Приведенный выше код - фактически класс который является оболочкой для класса `list`. Практического смысла нет, но он демонстрирует общую идею использования метода `__iter__()` для преобразования объекта в итерируемый тип."
   ]
  },
  {
   "cell_type": "code",
   "execution_count": 4,
   "metadata": {},
   "outputs": [
    {
     "data": {
      "text/plain": [
       "__main__.MyIterable"
      ]
     },
     "execution_count": 4,
     "metadata": {},
     "output_type": "execute_result"
    }
   ],
   "source": [
    "iterable = MyIterable([1, 2, 3, 4, 5])\n",
    "type(iterable)"
   ]
  },
  {
   "cell_type": "code",
   "execution_count": 5,
   "metadata": {},
   "outputs": [
    {
     "data": {
      "text/plain": [
       "__main__.MyIterator"
      ]
     },
     "execution_count": 5,
     "metadata": {},
     "output_type": "execute_result"
    }
   ],
   "source": [
    "iterator = iter(iterable)\n",
    "type(iterator)"
   ]
  },
  {
   "cell_type": "code",
   "execution_count": 6,
   "metadata": {},
   "outputs": [
    {
     "name": "stdout",
     "output_type": "stream",
     "text": [
      "1\n",
      "2\n",
      "3\n",
      "4\n",
      "5\n"
     ]
    }
   ],
   "source": [
    "try:\n",
    "    while True:\n",
    "        value = next(iterator)\n",
    "        print(value)\n",
    "except StopIteration:\n",
    "    pass"
   ]
  },
  {
   "cell_type": "markdown",
   "metadata": {},
   "source": [
    "## Два в одном\n",
    "\n",
    "Класс, который реализует и метод `__iter__`, и метод `__next__`, удовлетворяет обоим аспектам: он может быть использован как итерируемый объект, возвращая итератор, и как итератор, предоставляя метод для получения следующего элемента."
   ]
  },
  {
   "cell_type": "code",
   "execution_count": 7,
   "metadata": {},
   "outputs": [],
   "source": [
    "class MyDoubleIterator:\n",
    "    def __init__(self, data):\n",
    "        self.data = data\n",
    "        self.index = 0\n",
    "\n",
    "    def __iter__(self):\n",
    "        return self\n",
    "\n",
    "    def __next__(self):\n",
    "        if self.index == len(self.data):\n",
    "            raise StopIteration\n",
    "        result = self.data[self.index]\n",
    "        self.index += 1\n",
    "        return result"
   ]
  },
  {
   "cell_type": "markdown",
   "metadata": {},
   "source": [
    "Метод `__iter__` нуден для того, чтобы заставить работать цикл `for ... in ...`, который под капотом вызывает его."
   ]
  },
  {
   "cell_type": "code",
   "execution_count": 8,
   "metadata": {},
   "outputs": [
    {
     "name": "stdout",
     "output_type": "stream",
     "text": [
      "1\n",
      "2\n",
      "3\n",
      "4\n",
      "5\n"
     ]
    }
   ],
   "source": [
    "my_iterator = MyDoubleIterator([1, 2, 3, 4, 5])\n",
    "\n",
    "# Итерация по данным с использованием цикла for\n",
    "for item in my_iterator:\n",
    "    print(item)"
   ]
  },
  {
   "cell_type": "markdown",
   "metadata": {},
   "source": [
    "# Генератор\n",
    "\n",
    "Генератор – это объект такого класса, который удовлетворяет протоколу __итератора__ (то есть содержит метод `__next__()`). Но генератор, в отличие от итератора, не обходит (не итерирует) коллекцию, а возвращает (генерирует) новые данные."
   ]
  },
  {
   "cell_type": "code",
   "execution_count": 9,
   "metadata": {},
   "outputs": [],
   "source": [
    "class CustomGenerator:\n",
    "    def __init__(self, start, end):\n",
    "        self.start = start\n",
    "        self.end = end\n",
    "        self.current = start\n",
    "\n",
    "    def __iter__(self):\n",
    "        return self\n",
    "\n",
    "    def __next__(self):\n",
    "        if self.current <= self.end:\n",
    "            result = self.current\n",
    "            self.current += 1\n",
    "            return result\n",
    "        else:\n",
    "            raise StopIteration"
   ]
  },
  {
   "cell_type": "code",
   "execution_count": 10,
   "metadata": {},
   "outputs": [
    {
     "name": "stdout",
     "output_type": "stream",
     "text": [
      "1\n",
      "2\n",
      "3\n",
      "4\n",
      "5\n"
     ]
    }
   ],
   "source": [
    "generator = CustomGenerator(1, 5)\n",
    "try:\n",
    "    while True:\n",
    "        value = next(generator)\n",
    "        print(value)\n",
    "except StopIteration:\n",
    "    pass"
   ]
  },
  {
   "cell_type": "code",
   "execution_count": 11,
   "metadata": {},
   "outputs": [
    {
     "name": "stdout",
     "output_type": "stream",
     "text": [
      "1\n",
      "2\n",
      "3\n",
      "4\n",
      "5\n"
     ]
    }
   ],
   "source": [
    "generator = CustomGenerator(1, 5)\n",
    "for i in generator:\n",
    "    print(i)"
   ]
  },
  {
   "cell_type": "markdown",
   "metadata": {},
   "source": [
    "## Ссылки\n",
    "\n",
    "1. [#24. Итератор и итерируемые объекты. Функции `iter()` и `next()` (Selfedu. Python для начинающих)](https://www.youtube.com/watch?v=Kro9UOtkZEk)\n",
    "2. [#19. Магические методы `__iter__` и `__next__` (Selfedu. Объектно-ориентированное программирование Python)](https://www.youtube.com/watch?v=SDJ-Vmf_pxk&list=PLA0M1Bcd0w8zPwP7t-FgwONhZOHt9rz9E&index=20)\n",
    "3. [Does for loop call `__iter__`?](https://stackoverflow.com/questions/43519285/does-for-loop-call-iter)\n",
    "4. [Лекция 8. Итераторы (Программирование на Python)](https://www.youtube.com/watch?v=Xxuy1zFCMhc&t=3669s)"
   ]
  }
 ],
 "metadata": {
  "kernelspec": {
   "display_name": "Python 3",
   "language": "python",
   "name": "python3"
  },
  "language_info": {
   "codemirror_mode": {
    "name": "ipython",
    "version": 3
   },
   "file_extension": ".py",
   "mimetype": "text/x-python",
   "name": "python",
   "nbconvert_exporter": "python",
   "pygments_lexer": "ipython3",
   "version": "3.11.3"
  }
 },
 "nbformat": 4,
 "nbformat_minor": 2
}
